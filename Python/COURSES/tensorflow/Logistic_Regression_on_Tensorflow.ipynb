{
  "nbformat": 4,
  "nbformat_minor": 0,
  "metadata": {
    "colab": {
      "name": "Logistic Regression on Tensorflow",
      "provenance": [],
      "collapsed_sections": [],
      "authorship_tag": "ABX9TyNaJVYunLEuyzkRRC/Jg4xW"
    },
    "kernelspec": {
      "name": "python3",
      "display_name": "Python 3"
    }
  },
  "cells": [
    {
      "cell_type": "markdown",
      "metadata": {
        "id": "N4YKZ_WgwgD1",
        "colab_type": "text"
      },
      "source": [
        "Logistic Regression is a variation of Linear Regression, useful when the observed dependent variable, y, is categorical. It produces a formula that predicts the probability of the class label as a function of the independent variables.\n",
        "\n",
        "Despite the name logistic regression, it is actually a probabilistic classification model. Logistic regression fits a special s-shaped curve by taking the linear regression and transforming the numeric estimate into a probability with the following function:\n",
        "\n",
        "𝑃𝑟𝑜𝑏𝑎𝑏𝑖𝑙𝑖𝑡𝑦𝑂𝑓𝑎𝐶𝑙𝑎𝑠𝑠=𝜃(𝑦)=𝑒𝑦1+𝑒𝑦=𝑒𝑥𝑝(𝑦)/(1+𝑒𝑥𝑝(𝑦))=𝑝\n",
        " \n",
        "which produces p-values between 0 (as y approaches minus infinity  −∞ ) and 1 (as y approaches plus infinity  +∞ ). This now becomes a special kind of non-linear regression.\n",
        "\n",
        "In this equation, y is the regression result (the sum of the variables weighted by the coefficients), exp is the exponential function and  𝜃(𝑦)  is the logistic function, also called logistic curve. It is a common \"S\" shape (sigmoid curve), and was first developed for modeling population growth.\n",
        "\n",
        "You might also have seen this function before, in another configuration:\n",
        "\n",
        "𝑃𝑟𝑜𝑏𝑎𝑏𝑖𝑙𝑖𝑡𝑦𝑂𝑓𝑎𝐶𝑙𝑎𝑠𝑠=𝜃(𝑦)=1/1+𝑒−𝑦\n",
        " \n",
        "So, briefly, Logistic Regression passes the input through the logistic/sigmoid function but then treats the result as a probability:\n",
        "\n",
        "Image\n",
        "\n"
      ]
    },
    {
      "cell_type": "code",
      "metadata": {
        "id": "8N28NkjEwRt2",
        "colab_type": "code",
        "colab": {}
      },
      "source": [
        "import tensorflow.compat.v1 as tf\n",
        "tf.disable_v2_behavior()\n",
        "import pandas as pd\n",
        "import numpy as np\n",
        "import time\n",
        "from sklearn.datasets import load_iris\n",
        "from sklearn.model_selection import train_test_split\n",
        "import matplotlib.pyplot as plt"
      ],
      "execution_count": 0,
      "outputs": []
    },
    {
      "cell_type": "code",
      "metadata": {
        "id": "OoHtwBP1w3w-",
        "colab_type": "code",
        "colab": {}
      },
      "source": [
        "iris = load_iris()\n",
        "iris_X, iris_y = iris.data[:-1,:], iris.target[:-1]\n",
        "iris_y= pd.get_dummies(iris_y).values\n",
        "trainX, testX, trainY, testY = train_test_split(iris_X, iris_y, test_size=0.33, random_state=42)"
      ],
      "execution_count": 0,
      "outputs": []
    },
    {
      "cell_type": "markdown",
      "metadata": {
        "id": "BrbFZh-Vxq-v",
        "colab_type": "text"
      },
      "source": [
        "<h3>Why use Placeholders?</h3>\n",
        "\n",
        "<ol>\n",
        "    <li>This feature of TensorFlow allows us to create an algorithm which accepts data and knows something about the shape of the data without knowing the amount of data going in.</li>\n",
        "    <li>When we insert “batches” of data in training, we can easily adjust how many examples we train on in a single step without changing the entire algorithm.</li>\n",
        "</ol>"
      ]
    },
    {
      "cell_type": "code",
      "metadata": {
        "id": "xRAD1grkxVuP",
        "colab_type": "code",
        "colab": {}
      },
      "source": [
        "# numFeatures is the number of features in our input data.\n",
        "# In the iris dataset, this number is '4'.\n",
        "numFeatures = trainX.shape[1]\n",
        "\n",
        "# numLabels is the number of classes our data points can be in.\n",
        "# In the iris dataset, this number is '3'.\n",
        "numLabels = trainY.shape[1]\n",
        "\n",
        "\n",
        "# Placeholders\n",
        "# 'None' means TensorFlow shouldn't expect a fixed number in that dimension\n",
        "X = tf.compat.v1.placeholder(tf.float32, [None, numFeatures]) # Iris has 4 features, so X is a tensor to hold our data.\n",
        "yGold = tf.compat.v1.placeholder(tf.float32, [None, numLabels]) # This will be our correct answers matrix for 3 classes."
      ],
      "execution_count": 0,
      "outputs": []
    },
    {
      "cell_type": "markdown",
      "metadata": {
        "id": "Z6t6rytiySE3",
        "colab_type": "text"
      },
      "source": [
        "Much like Linear Regression, we need a shared variable weight matrix for Logistic Regression. We initialize both W and b as tensors full of zeros. Since we are going to learn W and b, their initial value does not matter too much. These variables are the objects which define the structure of our regression model, and we can save them after they have been trained so we can reuse them later.\n",
        "\n",
        "We define two TensorFlow variables as our parameters. These variables will hold the weights and biases of our logistic regression and they will be continually updated during training.\n",
        "\n",
        "Notice that W has a shape of [4, 3] because we want to multiply the 4-dimensional input vectors by it to produce 3-dimensional vectors of evidence for the difference classes. b has a shape of [3] so we can add it to the output. Moreover, unlike our placeholders above which are essentially empty shells waiting to be fed data, TensorFlow variables need to be initialized with values, e.g. with zeros."
      ]
    },
    {
      "cell_type": "code",
      "metadata": {
        "id": "j4fPNHwUx0cX",
        "colab_type": "code",
        "colab": {}
      },
      "source": [
        "W = tf.Variable(tf.zeros([4, 3]))  # 4-dimensional input and  3 classes\n",
        "b = tf.Variable(tf.zeros([3])) # 3-dimensional output [0,0,1],[0,1,0],[1,0,0]"
      ],
      "execution_count": 0,
      "outputs": []
    },
    {
      "cell_type": "code",
      "metadata": {
        "id": "wTFImzIVyVrW",
        "colab_type": "code",
        "colab": {}
      },
      "source": [
        "#Randomly sample from a normal distribution with standard deviation .01\n",
        "weights = tf.Variable(tf.random_normal([numFeatures,numLabels],\n",
        "                                       mean=0,\n",
        "                                       stddev=0.01,\n",
        "                                       name=\"weights\"))\n",
        "\n",
        "bias = tf.Variable(tf.random_normal([1,numLabels],\n",
        "                                    mean=0,\n",
        "                                    stddev=0.01,\n",
        "                                    name=\"bias\"))"
      ],
      "execution_count": 0,
      "outputs": []
    },
    {
      "cell_type": "markdown",
      "metadata": {
        "id": "PCcYmLbkyiI2",
        "colab_type": "text"
      },
      "source": [
        "<h3>Logistic Regression model</h3>\n",
        "\n",
        "We now define our operations in order to properly run the Logistic Regression. Logistic regression is typically thought of as a single equation:\n",
        "\n",
        "$$\n",
        "ŷ =sigmoid(WX+b)\n",
        "$$\n",
        "\n",
        "However, for the sake of clarity, we can have it broken into its three main components: \n",
        "- a weight times features matrix multiplication operation, \n",
        "- a summation of the weighted features and a bias term, \n",
        "- and finally the application of a sigmoid function. \n",
        "\n",
        "As such, you will find these components defined as three separate operations below.\n"
      ]
    },
    {
      "cell_type": "code",
      "metadata": {
        "id": "I3EnUbBLyelD",
        "colab_type": "code",
        "colab": {}
      },
      "source": [
        "# Three-component breakdown of the Logistic Regression equation.\n",
        "# Note that these feed into each other.\n",
        "apply_weights_OP = tf.matmul(X, weights, name=\"apply_weights\")\n",
        "add_bias_OP = tf.add(apply_weights_OP, bias, name=\"add_bias\") \n",
        "activation_OP = tf.nn.sigmoid(add_bias_OP, name=\"activation\")"
      ],
      "execution_count": 0,
      "outputs": []
    },
    {
      "cell_type": "markdown",
      "metadata": {
        "id": "S-zBF7Ggy9ni",
        "colab_type": "text"
      },
      "source": [
        "As we have seen before, the function we are going to use is the <i>logistic function</i> $(\\frac{1}{1+e^{-Wx}})$, which is fed the input data after applying weights and bias. In TensorFlow, this function is implemented as the <code>nn.sigmoid</code> function. Effectively, this fits the weighted input with bias into a 0-100 percent curve, which is the probability function we want."
      ]
    },
    {
      "cell_type": "markdown",
      "metadata": {
        "id": "wOMEPExtzcRq",
        "colab_type": "text"
      },
      "source": [
        "<a id=\"ref3\"></a>\n",
        "<h2>Training</h2>\n",
        "\n",
        "The learning algorithm is how we search for the best weight vector (${\\bf w}$). This search is an optimization problem looking for the hypothesis that optimizes an error/cost measure.\n",
        "\n",
        "<b>What tell us our model is bad?</b>  \n",
        "The Cost or Loss of the model, so what we want is to minimize that. \n",
        "\n",
        "<b>What is the cost function in our model?</b>  \n",
        "The cost function we are going to utilize is the Squared Mean Error loss function.\n",
        "\n",
        "<b>How to minimize the cost function?</b>   \n",
        "We can't use <b>least-squares linear regression</b> here, so we will use <a href=\"http://en.wikipedia.org/wiki/Gradient_descent\">gradient descent</a> instead. Specifically, we will use batch gradient descent which calculates the gradient from all data points in the data set.\n",
        "\n",
        "<h3>Cost function</h3>\n",
        "Before defining our cost function, we need to define how long we are going to train and how should we define the learning rate."
      ]
    },
    {
      "cell_type": "code",
      "metadata": {
        "id": "q7A7HE71yp2g",
        "colab_type": "code",
        "colab": {}
      },
      "source": [
        "# Number of Epochs in our training\n",
        "numEpochs = 700\n",
        "\n",
        "# Defining our learning rate iterations (decay)\n",
        "learningRate = tf.train.exponential_decay(learning_rate=0.0008,\n",
        "                                          global_step= 1,\n",
        "                                          decay_steps=trainX.shape[0],\n",
        "                                          decay_rate= 0.95,\n",
        "                                          staircase=True)"
      ],
      "execution_count": 0,
      "outputs": []
    },
    {
      "cell_type": "code",
      "metadata": {
        "id": "o2gKy1jP2qOg",
        "colab_type": "code",
        "colab": {}
      },
      "source": [
        "#Defining our cost function - Squared Mean Error\n",
        "cost_OP = tf.nn.l2_loss(activation_OP-yGold, name=\"squared_error_cost\")\n",
        "\n",
        "#Defining our Gradient Descent\n",
        "training_OP = tf.train.GradientDescentOptimizer(learningRate).minimize(cost_OP)"
      ],
      "execution_count": 0,
      "outputs": []
    },
    {
      "cell_type": "markdown",
      "metadata": {
        "id": "u6b55l-D0VbY",
        "colab_type": "text"
      },
      "source": [
        "Now we move on to actually running our operations. We will start with the operations involved in the prediction phase (i.e. the logistic regression itself).\n",
        "\n",
        "First, we need to initialize our weights and biases with zeros or random values via the inbuilt Initialization Op, <b>tf.initialize_all_variables()</b>. This Initialization Op will become a node in our computational graph, and when we put the graph into a session, then the Op will run and create the variables."
      ]
    },
    {
      "cell_type": "code",
      "metadata": {
        "id": "NtHwUYQQ0Vw1",
        "colab_type": "code",
        "colab": {}
      },
      "source": [
        "# Create a tensorflow session\n",
        "sess = tf.Session()\n",
        "\n",
        "# Initialize our weights and biases variables.\n",
        "init_OP = tf.global_variables_initializer()\n",
        "\n",
        "# Initialize all tensorflow variables\n",
        "sess.run(init_OP)"
      ],
      "execution_count": 0,
      "outputs": []
    },
    {
      "cell_type": "markdown",
      "metadata": {
        "id": "Smb7EZ8K05i9",
        "colab_type": "text"
      },
      "source": [
        "We also want some additional operations to keep track of our model's efficiency over time. We can do this like so:\n"
      ]
    },
    {
      "cell_type": "code",
      "metadata": {
        "id": "__k1yXc80iB7",
        "colab_type": "code",
        "colab": {}
      },
      "source": [
        "# argmax(activation_OP, 1) returns the label with the most probability\n",
        "# argmax(yGold, 1) is the correct label\n",
        "correct_predictions_OP = tf.equal(tf.argmax(activation_OP,1),tf.argmax(yGold,1))\n",
        "\n",
        "# If every false prediction is 0 and every true prediction is 1, the average returns us the accuracy\n",
        "accuracy_OP = tf.reduce_mean(tf.cast(correct_predictions_OP, \"float\"))\n",
        "\n",
        "# Summary op for regression output\n",
        "activation_summary_OP = tf.summary.histogram(\"output\", activation_OP)\n",
        "\n",
        "# Summary op for accuracy\n",
        "accuracy_summary_OP = tf.summary.scalar(\"accuracy\", accuracy_OP)\n",
        "\n",
        "# Summary op for cost\n",
        "cost_summary_OP = tf.summary.scalar(\"cost\", cost_OP)\n",
        "\n",
        "# Summary ops to check how variables (W, b) are updating after each iteration\n",
        "weightSummary = tf.summary.histogram(\"weights\", weights.eval(session=sess))\n",
        "biasSummary = tf.summary.histogram(\"biases\", bias.eval(session=sess))\n",
        "\n",
        "# Merge all summaries\n",
        "merged = tf.summary.merge([activation_summary_OP, accuracy_summary_OP, cost_summary_OP, weightSummary, biasSummary])\n",
        "\n",
        "# Summary writer\n",
        "writer = tf.summary.FileWriter(\"summary_logs\", sess.graph)"
      ],
      "execution_count": 0,
      "outputs": []
    },
    {
      "cell_type": "code",
      "metadata": {
        "id": "ZXDH41Zs1sF3",
        "colab_type": "code",
        "colab": {
          "base_uri": "https://localhost:8080/",
          "height": 1000
        },
        "outputId": "9bff0dcc-d314-4606-d6b5-8668cfbee35a"
      },
      "source": [
        "# Initialize reporting variables\n",
        "cost = 0\n",
        "diff = 1\n",
        "epoch_values = []\n",
        "accuracy_values = []\n",
        "cost_values = []\n",
        "\n",
        "# Training epochs\n",
        "for i in range(numEpochs):\n",
        "    if i > 1 and diff < .0001:\n",
        "        print(\"change in cost %g; convergence.\"%diff)\n",
        "        break\n",
        "    else:\n",
        "        # Run training step\n",
        "        step = sess.run(training_OP, feed_dict={X: trainX, yGold: trainY})\n",
        "        # Report occasional stats\n",
        "        if i % 10 == 0:\n",
        "            # Add epoch to epoch_values\n",
        "            epoch_values.append(i)\n",
        "            # Generate accuracy stats on test data\n",
        "            train_accuracy, newCost = sess.run([accuracy_OP, cost_OP], feed_dict={X: trainX, yGold: trainY})\n",
        "            # Add accuracy to live graphing variable\n",
        "            accuracy_values.append(train_accuracy)\n",
        "            # Add cost to live graphing variable\n",
        "            cost_values.append(newCost)\n",
        "            # Re-assign values for variables\n",
        "            diff = abs(newCost - cost)\n",
        "            cost = newCost\n",
        "\n",
        "            #generate print statements\n",
        "            print(\"step %d, training accuracy %g, cost %g, change in cost %g\"%(i, train_accuracy, newCost, diff))\n",
        "\n",
        "\n",
        "# How well do we perform on held-out test data?\n",
        "print(\"final accuracy on test set: %s\" %str(sess.run(accuracy_OP, feed_dict={X: testX, yGold: testY})))"
      ],
      "execution_count": 39,
      "outputs": [
        {
          "output_type": "stream",
          "text": [
            "step 0, training accuracy 0.959596, cost 11.7273, change in cost 11.7273\n",
            "step 10, training accuracy 0.959596, cost 11.7233, change in cost 0.00404835\n",
            "step 20, training accuracy 0.959596, cost 11.7193, change in cost 0.004035\n",
            "step 30, training accuracy 0.959596, cost 11.7152, change in cost 0.00401688\n",
            "step 40, training accuracy 0.959596, cost 11.7112, change in cost 0.00399971\n",
            "step 50, training accuracy 0.959596, cost 11.7073, change in cost 0.00398254\n",
            "step 60, training accuracy 0.959596, cost 11.7033, change in cost 0.00396538\n",
            "step 70, training accuracy 0.959596, cost 11.6993, change in cost 0.00394821\n",
            "step 80, training accuracy 0.959596, cost 11.6954, change in cost 0.003932\n",
            "step 90, training accuracy 0.959596, cost 11.6915, change in cost 0.00391674\n",
            "step 100, training accuracy 0.959596, cost 11.6876, change in cost 0.00389957\n",
            "step 110, training accuracy 0.959596, cost 11.6837, change in cost 0.00388336\n",
            "step 120, training accuracy 0.959596, cost 11.6798, change in cost 0.00386715\n",
            "step 130, training accuracy 0.959596, cost 11.676, change in cost 0.00385094\n",
            "step 140, training accuracy 0.959596, cost 11.6722, change in cost 0.00383472\n",
            "step 150, training accuracy 0.959596, cost 11.6683, change in cost 0.00381947\n",
            "step 160, training accuracy 0.959596, cost 11.6645, change in cost 0.00380325\n",
            "step 170, training accuracy 0.959596, cost 11.6608, change in cost 0.00378799\n",
            "step 180, training accuracy 0.959596, cost 11.657, change in cost 0.00377274\n",
            "step 190, training accuracy 0.959596, cost 11.6532, change in cost 0.00375652\n",
            "step 200, training accuracy 0.959596, cost 11.6495, change in cost 0.00374222\n",
            "step 210, training accuracy 0.959596, cost 11.6458, change in cost 0.00372505\n",
            "step 220, training accuracy 0.959596, cost 11.642, change in cost 0.0037117\n",
            "step 230, training accuracy 0.959596, cost 11.6383, change in cost 0.00369644\n",
            "step 240, training accuracy 0.959596, cost 11.6347, change in cost 0.00368118\n",
            "step 250, training accuracy 0.959596, cost 11.631, change in cost 0.00366688\n",
            "step 260, training accuracy 0.959596, cost 11.6273, change in cost 0.00365257\n",
            "step 270, training accuracy 0.959596, cost 11.6237, change in cost 0.00363636\n",
            "step 280, training accuracy 0.959596, cost 11.6201, change in cost 0.00362396\n",
            "step 290, training accuracy 0.959596, cost 11.6165, change in cost 0.00360775\n",
            "step 300, training accuracy 0.959596, cost 11.6129, change in cost 0.00359344\n",
            "step 310, training accuracy 0.959596, cost 11.6093, change in cost 0.00357914\n",
            "step 320, training accuracy 0.959596, cost 11.6057, change in cost 0.00356674\n",
            "step 330, training accuracy 0.959596, cost 11.6022, change in cost 0.00355053\n",
            "step 340, training accuracy 0.959596, cost 11.5987, change in cost 0.00353718\n",
            "step 350, training accuracy 0.959596, cost 11.5951, change in cost 0.00352383\n",
            "step 360, training accuracy 0.959596, cost 11.5916, change in cost 0.00350952\n",
            "step 370, training accuracy 0.959596, cost 11.5881, change in cost 0.00349617\n",
            "step 380, training accuracy 0.959596, cost 11.5846, change in cost 0.00348186\n",
            "step 390, training accuracy 0.959596, cost 11.5812, change in cost 0.00347042\n",
            "step 400, training accuracy 0.959596, cost 11.5777, change in cost 0.00345421\n",
            "step 410, training accuracy 0.959596, cost 11.5743, change in cost 0.00344372\n",
            "step 420, training accuracy 0.959596, cost 11.5708, change in cost 0.00342846\n",
            "step 430, training accuracy 0.959596, cost 11.5674, change in cost 0.00341606\n",
            "step 440, training accuracy 0.959596, cost 11.564, change in cost 0.00340271\n",
            "step 450, training accuracy 0.959596, cost 11.5606, change in cost 0.0033884\n",
            "step 460, training accuracy 0.959596, cost 11.5573, change in cost 0.00337696\n",
            "step 470, training accuracy 0.959596, cost 11.5539, change in cost 0.00336552\n",
            "step 480, training accuracy 0.959596, cost 11.5505, change in cost 0.00335121\n",
            "step 490, training accuracy 0.959596, cost 11.5472, change in cost 0.00333691\n",
            "step 500, training accuracy 0.959596, cost 11.5439, change in cost 0.00332737\n",
            "step 510, training accuracy 0.959596, cost 11.5406, change in cost 0.00331116\n",
            "step 520, training accuracy 0.959596, cost 11.5373, change in cost 0.00330162\n",
            "step 530, training accuracy 0.959596, cost 11.534, change in cost 0.00328922\n",
            "step 540, training accuracy 0.959596, cost 11.5307, change in cost 0.00327587\n",
            "step 550, training accuracy 0.959596, cost 11.5274, change in cost 0.00326252\n",
            "step 560, training accuracy 0.959596, cost 11.5242, change in cost 0.00325394\n",
            "step 570, training accuracy 0.959596, cost 11.5209, change in cost 0.00323677\n",
            "step 580, training accuracy 0.959596, cost 11.5177, change in cost 0.00322819\n",
            "step 590, training accuracy 0.959596, cost 11.5145, change in cost 0.00321674\n",
            "step 600, training accuracy 0.959596, cost 11.5113, change in cost 0.0032053\n",
            "step 610, training accuracy 0.959596, cost 11.5081, change in cost 0.00318909\n",
            "step 620, training accuracy 0.959596, cost 11.5049, change in cost 0.00318241\n",
            "step 630, training accuracy 0.959596, cost 11.5018, change in cost 0.00316906\n",
            "step 640, training accuracy 0.959596, cost 11.4986, change in cost 0.00315475\n",
            "step 650, training accuracy 0.959596, cost 11.4955, change in cost 0.00314617\n",
            "step 660, training accuracy 0.959596, cost 11.4923, change in cost 0.00313473\n",
            "step 670, training accuracy 0.959596, cost 11.4892, change in cost 0.00312233\n",
            "step 680, training accuracy 0.959596, cost 11.4861, change in cost 0.00311184\n",
            "step 690, training accuracy 0.959596, cost 11.483, change in cost 0.0031004\n",
            "final accuracy on test set: 1.0\n"
          ],
          "name": "stdout"
        }
      ]
    },
    {
      "cell_type": "code",
      "metadata": {
        "id": "YabTp2751tHv",
        "colab_type": "code",
        "colab": {
          "base_uri": "https://localhost:8080/",
          "height": 349
        },
        "outputId": "097545a9-10d1-4440-bfce-fc4ace8a42df"
      },
      "source": [
        "%matplotlib inline\n",
        "import numpy as np\n",
        "import matplotlib.pyplot as plt\n",
        "plt.plot([np.mean(cost_values[i-50:i]) for i in range(len(cost_values))])\n",
        "plt.show()\n",
        "print(step)"
      ],
      "execution_count": 38,
      "outputs": [
        {
          "output_type": "stream",
          "text": [
            "/usr/local/lib/python3.6/dist-packages/numpy/core/fromnumeric.py:3335: RuntimeWarning: Mean of empty slice.\n",
            "  out=out, **kwargs)\n",
            "/usr/local/lib/python3.6/dist-packages/numpy/core/_methods.py:161: RuntimeWarning: invalid value encountered in double_scalars\n",
            "  ret = ret.dtype.type(ret / rcount)\n"
          ],
          "name": "stderr"
        },
        {
          "output_type": "display_data",
          "data": {
            "image/png": "[encoded data removed]",
            "text/plain": [
              "<Figure size 432x288 with 1 Axes>"
            ]
          },
          "metadata": {
            "tags": []
          }
        },
        {
          "output_type": "stream",
          "text": [
            "None\n"
          ],
          "name": "stdout"
        }
      ]
    },
    {
      "cell_type": "code",
      "metadata": {
        "id": "WLqMwU6A5Syl",
        "colab_type": "code",
        "colab": {}
      },
      "source": [
        ""
      ],
      "execution_count": 0,
      "outputs": []
    }
  ]
}