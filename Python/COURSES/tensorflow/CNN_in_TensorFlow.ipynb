{
  "nbformat": 4,
  "nbformat_minor": 0,
  "metadata": {
    "colab": {
      "name": "CNN in TensorFlow",
      "provenance": [],
      "collapsed_sections": [],
      "authorship_tag": "ABX9TyPIiZWwxktvcoUnzPfbC0An",
      "include_colab_link": true
    },
    "kernelspec": {
      "name": "python3",
      "display_name": "Python 3"
    },
    "accelerator": "GPU"
  },
  "cells": [
    {
      "cell_type": "markdown",
      "metadata": {
        "id": "view-in-github",
        "colab_type": "text"
      },
      "source": [
        "<a href=\"https://colab.research.google.com/github/SrVladyslav/proves/blob/master/Python/COURSES/tensorflow/CNN_in_TensorFlow.ipynb\" target=\"_parent\"><img src=\"https://colab.research.google.com/assets/colab-badge.svg\" alt=\"Open In Colab\"/></a>"
      ]
    },
    {
      "cell_type": "markdown",
      "metadata": {
        "id": "wEY10iZsHzAQ",
        "colab_type": "text"
      },
      "source": [
        "Basically, Convolutional Neural Networks is your best friend to <b>automatically do Feature Engineering</b> (Feature Learning) without wasting too much time creating your own codes and with no prior need of expertise in the field of Feature Engineering.\n",
        "<br>\n",
        "\n",
        "<img src=\"https://ibm.box.com/shared/static/urzzkc7o5loqrlezcvn4kr594mxi9ftx.png\" alt=\"HTML5 Icon\" style=\"width: 650px; height: 250px;\">\n",
        "<center> \n",
        "    Example of feature learning (automatically feature engineering), starting with simple features and ending with high-level features like human faces. <a href=\"https://devblogs.nvidia.com/parallelforall/deep-learning-nutshell-core-concepts/\">ref</a> \n",
        "</center> "
      ]
    },
    {
      "cell_type": "code",
      "metadata": {
        "id": "DJ58quq6Hn0A",
        "colab_type": "code",
        "outputId": "9f61e30c-9704-4dc5-88ae-6f277ec347ff",
        "colab": {
          "base_uri": "https://localhost:8080/",
          "height": 87
        }
      },
      "source": [
        "import tensorflow.compat.v1 as tf\n",
        "tf.disable_v2_behavior()"
      ],
      "execution_count": 0,
      "outputs": [
        {
          "output_type": "stream",
          "text": [
            "WARNING:tensorflow:From /usr/local/lib/python3.6/dist-packages/tensorflow/python/compat/v2_compat.py:96: disable_resource_variables (from tensorflow.python.ops.variable_scope) is deprecated and will be removed in a future version.\n",
            "Instructions for updating:\n",
            "non-resource variables are not supported in the long term\n"
          ],
          "name": "stdout"
        }
      ]
    },
    {
      "cell_type": "markdown",
      "metadata": {
        "id": "SyybJ2YUeysn",
        "colab_type": "text"
      },
      "source": [
        "<a id=\"ref2\"></a>\n",
        "<h2>Understanding and coding with Python</h2>\n",
        "<h3>Convolution: 1D operation with Python (Numpy/Scipy)</h3>\n",
        "<h4>Mathematical notation</h4>\n",
        "In this first example, we will use the pure mathematical notation. Here we have a one dimensional convolution operation. Lets say h is our image and x is our kernel: \n",
        "  \n",
        "x[i] = { 3, 4, 5 }  \n",
        "h[i] = { 2, 1, 0 }  \n",
        "\n",
        "where i = index\n",
        "\n",
        "To use the convolution operation between the two arrays try the code below to see how easy it is to do in Python."
      ]
    },
    {
      "cell_type": "code",
      "metadata": {
        "id": "qQdr4CmrezU8",
        "colab_type": "code",
        "outputId": "737b58c2-884b-42e9-c00f-62b3f1464616",
        "colab": {
          "base_uri": "https://localhost:8080/",
          "height": 34
        }
      },
      "source": [
        "import numpy as np\n",
        "\n",
        "h = [2, 1, 0]\n",
        "x = [3, 4, 5]\n",
        " \n",
        "\n",
        "y = np.convolve(x, h)\n",
        "y  "
      ],
      "execution_count": 0,
      "outputs": [
        {
          "output_type": "execute_result",
          "data": {
            "text/plain": [
              "array([ 6, 11, 14,  5,  0])"
            ]
          },
          "metadata": {
            "tags": []
          },
          "execution_count": 3
        }
      ]
    },
    {
      "cell_type": "markdown",
      "metadata": {
        "id": "UPwozg4bgblu",
        "colab_type": "text"
      },
      "source": [
        "sliding x window over h:\n",
        "<ul>\n",
        "    <li>6  = 2 * 3 :            \n",
        "        $\n",
        "        \\begin{bmatrix}\n",
        "             3 & 4 & 5 \\\\\n",
        "        \\end{bmatrix}\n",
        "        \\\\ \n",
        "        \\begin{bmatrix}\n",
        "             2 & 0 & 0 \\\\\n",
        "        \\end{bmatrix}\n",
        "        $ \n",
        "    </li>\n",
        "    <li>11 = 1 * 3 + 2 * 4 :\n",
        "        $\n",
        "        \\begin{bmatrix}\n",
        "             3 & 4 & 5 \\\\\n",
        "        \\end{bmatrix}\n",
        "        \\\\\n",
        "        \\begin{bmatrix}\n",
        "             1 & 2 & 0 \\\\\n",
        "        \\end{bmatrix}\n",
        "        $ \n",
        "    </li>  \n",
        "    <li>14 = 0 * 3 + 1 * 4 + 2 * 5 :\n",
        "        $\n",
        "        \\begin{bmatrix}\n",
        "             3 & 4 & 5 \\\\\n",
        "        \\end{bmatrix}\n",
        "        \\\\\n",
        "        \\begin{bmatrix}\n",
        "             0 & 1 & 2 \\\\\n",
        "        \\end{bmatrix}\n",
        "        $ \n",
        "    </li>  \n",
        "    <li>5  = 0 * 4 + 1 * 5 :\n",
        "        $\n",
        "        \\begin{bmatrix}\n",
        "             3 & 4 & 5 \\\\\n",
        "        \\end{bmatrix}\n",
        "        \\\\\n",
        "        \\begin{bmatrix}\n",
        "             0 & 0 & 1 \\\\\n",
        "        \\end{bmatrix}\n",
        "        $ \n",
        "    </li>\n",
        "    <li>0  = 0 * 5 :\n",
        "        $\n",
        "        \\begin{bmatrix}\n",
        "             3 & 4 & 5 \\\\\n",
        "        \\end{bmatrix}\n",
        "        \\\\\n",
        "        \\begin{bmatrix}\n",
        "             0 & 0 & 0 \\\\\n",
        "        \\end{bmatrix}\n",
        "        $ \n",
        "    </li>\n",
        "</ul>\n",
        "\n",
        "<hr>\n",
        "\n",
        "<h4> Now we are going to verify what Python did, because we don't trust computer outputs while we are learning. Using the equation of convolution for y[n]:</h4>\n",
        "  \n",
        "$$y[n] = \\sum\\limits_{k\\to-\\infty}^\\infty x[k] \\cdot h[n-k] $$\n",
        "\n",
        "\n",
        "And then, manually executing computation:\n",
        "\n",
        "$ \n",
        "y[0]= \\sum\\limits_{k\\to-\\infty}^\\infty x[k]\\cdot h[0-k]= x[0]\\cdot h[0]=3\\cdot 2=6 \\\\\n",
        "y[1]= \\sum\\limits_{k\\to-\\infty}^\\infty x[k]\\cdot h[1-k]= x[0]\\cdot h[1-0]+x[1]\\cdot h[1-1] + \\space... \\\\ \n",
        "\\qquad\\qquad\\qquad\\qquad\\qquad   = x[0]\\cdot h[1] + x[1]\\cdot h[0]= 3\\cdot1+4\\cdot 2=11 \\\\\n",
        "y[2]= \\sum\\limits_{k\\to-\\infty}^\\infty x[k]\\cdot h[2-k]= x[0]\\cdot h[2-0]+x[1]\\cdot h[2-1]+x[2]\\cdot h[2-2]+ \\space ... \\\\ \n",
        "\\qquad\\qquad\\qquad\\qquad\\qquad   = x[0]\\cdot h[2] + x[1]\\cdot h[1]+x[2]\\cdot h[0]= 3\\cdot0+4\\cdot 1 +5\\cdot 2=14 \\\\\n",
        "y[3]= \\sum\\limits_{k\\to-\\infty}^\\infty x[k]\\cdot h[3-k]= x[0]\\cdot h[3-0]+x[1]\\cdot h[3-1]+x[2]\\cdot h[3-2]+ x[3]\\cdot h[3-3] + \\space... \\\\ \n",
        "\\qquad\\qquad\\qquad\\qquad\\qquad   = x[0]\\cdot h[3] +x[1]\\cdot h[2] + x[2]\\cdot h[1]+x[3]\\cdot h[0]=0+0+5 \\cdot 1 +0=5 \\\\\n",
        "y[4]= \\sum\\limits_{k\\to-\\infty}^\\infty x[k]\\cdot h[4-k]= x[0]\\cdot h[4-0]+x[1]\\cdot h[4-1]+x[2]\\cdot h[4-2]+\\space... =0\\\\ \n",
        "$"
      ]
    },
    {
      "cell_type": "code",
      "metadata": {
        "id": "0ZfaWCote5_3",
        "colab_type": "code",
        "outputId": "a05da47e-dd54-470f-e46a-eed2f2e8d9c2",
        "colab": {
          "base_uri": "https://localhost:8080/",
          "height": 34
        }
      },
      "source": [
        "print(\"Compare with the following values from Python: y[0] = {0} ; y[1] = {1}; y[2] = {2}; y[3] = {3}; y[4] = {4}\".format(y[0], y[1], y[2], y[3], y[4])) "
      ],
      "execution_count": 0,
      "outputs": [
        {
          "output_type": "stream",
          "text": [
            "Compare with the following values from Python: y[0] = 6 ; y[1] = 11; y[2] = 14; y[3] = 5; y[4] = 0\n"
          ],
          "name": "stdout"
        }
      ]
    },
    {
      "cell_type": "markdown",
      "metadata": {
        "id": "wpUAzNsUjU8y",
        "colab_type": "text"
      },
      "source": [
        "There are three methods to apply kernel on the matrix, <b>with padding (full)</b>, <b>with padding(same)</b> and <b>without padding(valid)</b>:  \n",
        "\n",
        "</h3>1) Visually understanding the operation with padding (full)</h3>\n",
        "\n",
        "Lets think of the kernel as a sliding window. We have to come with the solution of padding zeros on the input array. This is a very famous implementation and will be easier to show how it works with a simple example, consider this case:\n",
        "  \n",
        "x[i] = [6,2]  \n",
        "h[i] = [1,2,5,4]  \n",
        "Using the zero padding, we can calculate the convolution.\n",
        " \n",
        "You have to invert the filter x, otherwise the operation would be cross-correlation.\n",
        "First step, (now with zero padding): "
      ]
    },
    {
      "cell_type": "markdown",
      "metadata": {
        "id": "5pUhbHu9jtpp",
        "colab_type": "text"
      },
      "source": [
        "There are three methods to apply kernel on the matrix, <b>with padding (full)</b>, <b>with padding(same)</b> and <b>without padding(valid)</b>:  \n",
        "\n",
        "</h3>1) Visually understanding the operation with padding (full)</h3>\n",
        "\n",
        "Lets think of the kernel as a sliding window. We have to come with the solution of padding zeros on the input array. This is a very famous implementation and will be easier to show how it works with a simple example, consider this case:\n",
        "  \n",
        "x[i] = [6,2]  \n",
        "h[i] = [1,2,5,4]  \n",
        "Using the zero padding, we can calculate the convolution.\n",
        " \n",
        "You have to invert the filter x, otherwise the operation would be cross-correlation.\n",
        "First step, (now with zero padding): "
      ]
    },
    {
      "cell_type": "code",
      "metadata": {
        "id": "9DILYI07jwSG",
        "colab_type": "code",
        "colab": {}
      },
      "source": [
        "[2  6]\n",
        " |  |\n",
        " V  V\n",
        " 0 [1 2 5 4]"
      ],
      "execution_count": 0,
      "outputs": []
    },
    {
      "cell_type": "code",
      "metadata": {
        "id": "nKB3OvSwicPm",
        "colab_type": "code",
        "outputId": "76ff92a3-59b3-4681-90ab-4f78fee1153b",
        "colab": {
          "base_uri": "https://localhost:8080/",
          "height": 34
        }
      },
      "source": [
        "import numpy as np\n",
        "\n",
        "x = [6, 2]\n",
        "h = [1, 2, 5, 4]\n",
        "\n",
        "y = np.convolve(x, h, \"full\")  #now, because of the zero padding, the final dimension of the array is bigger\n",
        "y  "
      ],
      "execution_count": 0,
      "outputs": [
        {
          "output_type": "execute_result",
          "data": {
            "text/plain": [
              "array([ 6, 14, 34, 34,  8])"
            ]
          },
          "metadata": {
            "tags": []
          },
          "execution_count": 6
        }
      ]
    },
    {
      "cell_type": "code",
      "metadata": {
        "id": "1N0I_kDUjpp4",
        "colab_type": "code",
        "outputId": "84d58222-a0c0-4071-a544-aeae492bc4f4",
        "colab": {
          "base_uri": "https://localhost:8080/",
          "height": 34
        }
      },
      "source": [
        "import numpy as np\n",
        "\n",
        "x = [6, 2]\n",
        "h = [1, 2, 5, 4]\n",
        "\n",
        "y = np.convolve(x, h, \"same\")  # it is same as zero padding, but with returns an ouput with the same length as max of x or h\n",
        "y  "
      ],
      "execution_count": 0,
      "outputs": [
        {
          "output_type": "execute_result",
          "data": {
            "text/plain": [
              "array([ 6, 14, 34, 34])"
            ]
          },
          "metadata": {
            "tags": []
          },
          "execution_count": 7
        }
      ]
    },
    {
      "cell_type": "code",
      "metadata": {
        "id": "amnCEnCtj9ju",
        "colab_type": "code",
        "outputId": "e2bea72d-8f95-4554-cc98-a77e5232a397",
        "colab": {
          "base_uri": "https://localhost:8080/",
          "height": 34
        }
      },
      "source": [
        "import numpy as np\n",
        "\n",
        "x = [6, 2]\n",
        "h = [1, 2, 5, 4]\n",
        "\n",
        "y = np.convolve(x, h, \"valid\")   # valid returns output of length max(x, h) - min(x, h) + 1, this is to ensure that values outside of the boundary of \n",
        "                                # h will not be used in the calculation of the convolution\n",
        "                                # in the next example we will understand why we used the argument valid\n",
        "y  "
      ],
      "execution_count": 0,
      "outputs": [
        {
          "output_type": "execute_result",
          "data": {
            "text/plain": [
              "array([14, 34, 34])"
            ]
          },
          "metadata": {
            "tags": []
          },
          "execution_count": 8
        }
      ]
    },
    {
      "cell_type": "markdown",
      "metadata": {
        "id": "kT5DjpkfkSa7",
        "colab_type": "text"
      },
      "source": [
        "The 2D convolution operation is defined as:\n",
        "\n",
        "<font size=\"4\">$$ I'= \\sum\\limits_{u,v} I(x-u,y-v)g(u,v) $$ </font> \n",
        " \n",
        " \n",
        "Below we will apply the equation to an image represented by a 3x3 matrix according to the function g = (-1 1). Please note that when we apply the kernel we always use its inversion. \n",
        " \n",
        "$\n",
        "I=\n",
        "\\begin{bmatrix}\n",
        "     255          & 7      & 3     \\\\\n",
        "     212          & 240    & 4     \\\\\n",
        "     218          & 216    & 230\n",
        "\\end{bmatrix}\n",
        "\\\\\n",
        "$ \n",
        "\n",
        "$\n",
        "g=\n",
        "\\begin{bmatrix}\n",
        "     -1          & 1      \n",
        "\\end{bmatrix}\n",
        "\\\\\n",
        "$ \n",
        "  \n",
        "$\n",
        "\\begin{bmatrix}\n",
        "    \\textbf{1}\\cdot \\textbf{0}      & \\textbf{-1} \\ast \\textbf{255}  & 7      & 3     \\\\\n",
        "    0              & 212          & 240    & 4     \\\\\n",
        "    0              & 218          & 216    & 230\n",
        "\\end{bmatrix}\n",
        "\\rightarrow\n",
        "\\begin{bmatrix}\n",
        "    \\textbf{-255}  & 7      & 3     \\\\\n",
        "    212            & 240    & 4     \\\\\n",
        "    218            & 216    & 230\n",
        "\\end{bmatrix}\n",
        "\\\\\n",
        "$\n",
        "\n",
        "$\n",
        "\\begin{bmatrix}\n",
        "    \\textbf{1}\\ast \\textbf{255}      & \\textbf{-1} \\ast \\textbf{7}  & 3    \\\\\n",
        "    212          & 240    & 4     \\\\\n",
        "    218          & 216    & 230\n",
        "\\end{bmatrix}\n",
        "\\rightarrow\n",
        "\\begin{bmatrix}\n",
        "    -255           & \\textbf{248}      & 3     \\\\\n",
        "    212            & 240    & 4     \\\\\n",
        "    218            & 216    & 230\n",
        "\\end{bmatrix}\n",
        "\\\\\n",
        "$\n",
        "\n",
        "$\n",
        "\\begin{bmatrix}\n",
        "    255          & \\textbf{1}\\ast\\textbf{7}  & \\textbf{-1}\\ast\\textbf{3}    \\\\\n",
        "    212          & 240    & 4     \\\\\n",
        "    218          & 216    & 230\n",
        "\\end{bmatrix}\n",
        "\\rightarrow\n",
        "\\begin{bmatrix}\n",
        "    -255           & 248      & \\textbf{4}     \\\\\n",
        "    212            & 240      & 4     \\\\\n",
        "    218            & 216      & 230\n",
        "\\end{bmatrix}\n",
        "\\\\\n",
        "$\n",
        "\n",
        "  \n",
        "$\n",
        "\\begin{bmatrix}\n",
        "    0              & 255          & 7          & 3     \\\\\n",
        "    \\textbf{1}\\ast \\textbf{0}    & \\textbf{-1} \\ast \\textbf{212}  & 240     & 4     \\\\\n",
        "    0              & 218          & 216    & 230\n",
        "\\end{bmatrix}\n",
        "\\rightarrow\n",
        "\\begin{bmatrix}\n",
        "    \\textbf{-255}  & 248    & 4     \\\\\n",
        "    -212            & 240    & 4     \\\\\n",
        "    218            & 216    & 230\n",
        "\\end{bmatrix}\n",
        "\\\\\n",
        "$\n",
        " \n",
        " We don't have to finish the calculations, we have the computer at our side. So, let's see what is the code to proceede with this operation: \n"
      ]
    },
    {
      "cell_type": "code",
      "metadata": {
        "id": "MAeP8C4VkFKD",
        "colab_type": "code",
        "outputId": "b23c95cc-ff53-475c-f52f-de9b92384da0",
        "colab": {
          "base_uri": "https://localhost:8080/",
          "height": 202
        }
      },
      "source": [
        "from scipy import signal as sg\n",
        "\n",
        "I= [[255,   7,  3],\n",
        "    [212, 240,  4],\n",
        "    [218, 216, 230],]\n",
        "\n",
        "g= [[-1, 1]]\n",
        "\n",
        "print('Without zero padding \\n')\n",
        "print('{0} \\n'.format(sg.convolve( I, g, 'valid')))\n",
        "# The 'valid' argument states that the output consists only of those elements \n",
        "# that do not rely on the zero-padding.\n",
        "\n",
        "print('With zero padding \\n')\n",
        "print(sg.convolve( I, g))"
      ],
      "execution_count": 0,
      "outputs": [
        {
          "output_type": "stream",
          "text": [
            "Without zero padding \n",
            "\n",
            "[[248   4]\n",
            " [-28 236]\n",
            " [  2 -14]] \n",
            "\n",
            "With zero padding \n",
            "\n",
            "[[-255  248    4    3]\n",
            " [-212  -28  236    4]\n",
            " [-218    2  -14  230]]\n"
          ],
          "name": "stdout"
        }
      ]
    },
    {
      "cell_type": "markdown",
      "metadata": {
        "id": "t6eKZMlaqE1M",
        "colab_type": "text"
      },
      "source": [
        "<a id=\"ref3\"></a>\n",
        "<h2>Coding with TensorFlow</h2>\n",
        "Numpy is great because it has high optimized matrix operations implemented in a backend using C/C++. However, if our goal is to work with DeepLearning, we need much more. TensorFlow does the same work, but instead of returning to Python everytime, it creates all the operations in the form of graphs and execute them once with the highly optimized backend.\n",
        "\n",
        "Suppose that you have two tensors:\n",
        "\n",
        "* 3x3 filter (4D tensor = [3,3,1,1] = [width, height, channels, number of filters])\n",
        "* 10x10 image (4D tensor = [1,10,10,1] = [batch size, width, height, number of channels]\n",
        "\n",
        "The output size for zero padding 'SAME' mode will be:  \n",
        "* the same as input = 10x10  \n",
        "\n",
        "The output size without zero padding 'VALID' mode:  \n",
        "* input size - kernel dimension + 1 = 10 -3 + 1 = 8 = 8x8 "
      ]
    },
    {
      "cell_type": "code",
      "metadata": {
        "id": "3sMoZLvKlDcq",
        "colab_type": "code",
        "colab": {}
      },
      "source": [
        "import tensorflow.compat.v1 as tf\n",
        "tf.disable_v2_behavior()\n",
        "\n",
        "#Building graph\n",
        "input = tf.Variable(tf.random_normal([1, 10, 10, 1]))\n",
        "filter = tf.Variable(tf.random_normal([3, 3, 1, 1]))\n",
        "op = tf.nn.conv2d(input, filter, strides=[1, 1, 1, 1], padding='VALID')\n",
        "op2 = tf.nn.conv2d(input, filter, strides=[1, 1, 1, 1], padding='SAME')\n",
        "\n",
        "#Initialization and session\n",
        "init = tf.global_variables_initializer()\n",
        "with tf.Session() as sess:\n",
        "    sess.run(init)\n",
        "\n",
        "    print(\"Input \\n\")\n",
        "    print('{0} \\n'.format(input.eval()))\n",
        "    print(\"Filter/Kernel \\n\")\n",
        "    print('{0} \\n'.format(filter.eval()))\n",
        "    print(\"Result/Feature Map with valid positions \\n\")\n",
        "    result = sess.run(op)\n",
        "    print(result)\n",
        "    print('\\n')\n",
        "    print(\"Result/Feature Map with padding \\n\")\n",
        "    result2 = sess.run(op2)\n",
        "    print(result2)"
      ],
      "execution_count": 0,
      "outputs": []
    },
    {
      "cell_type": "markdown",
      "metadata": {
        "id": "eSHArzcvty1W",
        "colab_type": "text"
      },
      "source": [
        "<a id=\"ref4\"></a>\n",
        "<h2>Convolution applied on images</h2>\n"
      ]
    },
    {
      "cell_type": "code",
      "metadata": {
        "id": "AAcrvDXusAfD",
        "colab_type": "code",
        "colab": {}
      },
      "source": [
        "# download standard image\n",
        "!wget --quiet https://opencollective-production.s3-us-west-1.amazonaws.com/091bf5a0-b5dc-11e8-8125-774c9e6a754e.jpeg --output-document bird.jpg    "
      ],
      "execution_count": 0,
      "outputs": []
    },
    {
      "cell_type": "code",
      "metadata": {
        "id": "Yiz3pwspt5x-",
        "colab_type": "code",
        "colab": {
          "base_uri": "https://localhost:8080/",
          "height": 574
        },
        "outputId": "08f0de41-3151-4e38-8a2a-f97d7437d385"
      },
      "source": [
        "#Importing\n",
        "import numpy as np\n",
        "from scipy import signal\n",
        "from scipy import misc\n",
        "import matplotlib.pyplot as plt\n",
        "from PIL import Image\n",
        "\n",
        "im = Image.open('bird.jpg')\n",
        "\n",
        "image_gr = im.convert(\"L\")    # convert(\"L\") translate color images into black and white\n",
        "                              # uses the ITU-R 601-2 Luma transform (there are several \n",
        "                              # ways to convert an image to grey scale)\n",
        "print(\"\\n Original type: %r \\n\\n\" % image_gr)\n",
        "\n",
        "# convert image to a matrix with values from 0 to 255 (uint8) \n",
        "arr = np.asarray(image_gr) \n",
        "print(\"After conversion to numerical representation: \\n\\n %r\" % arr) \n",
        "### Activating matplotlib for Ipython\n",
        "%matplotlib inline\n",
        "\n",
        "### Plot image\n",
        "\n",
        "imgplot = plt.imshow(arr)\n",
        "imgplot.set_cmap('hot')  #you can experiment different colormaps (Greys,winter,autumn)\n",
        "print(\"\\n Input image converted to gray scale: \\n\")\n",
        "plt.show(imgplot)\n",
        "\n",
        "'''\n",
        "'Accent', 'Accent_r', 'Blues', 'Blues_r', 'BrBG', 'BrBG_r', 'BuGn', 'BuGn_r', 'BuPu', 'BuPu_r', \n",
        "'CMRmap', 'CMRmap_r', 'Dark2', 'Dark2_r', 'GnBu', 'GnBu_r', 'Greens', 'Greens_r', 'Greys', 'Greys_r', \n",
        "'OrRd', 'OrRd_r', 'Oranges', 'Oranges_r', 'PRGn', 'PRGn_r', 'Paired', 'Paired_r', 'Pastel1',\n",
        " 'Pastel1_r', 'Pastel2', 'Pastel2_r', 'PiYG', 'PiYG_r', 'PuBu', 'PuBuGn', 'PuBuGn_r', 'PuBu_r', \n",
        " 'PuOr', 'PuOr_r', 'PuRd', 'PuRd_r', 'Purples', 'Purples_r', 'RdBu', 'RdBu_r', 'RdGy', 'RdGy_r',\n",
        "'RdPu', 'RdPu_r', 'RdYlBu', 'RdYlBu_r', 'RdYlGn', 'RdYlGn_r', 'Reds', 'Reds_r', 'Set1', 'Set1_r',\n",
        "'Set2', 'Set2_r', 'Set3', 'Set3_r', 'Spectral', 'Spectral_r', 'Wistia', 'Wistia_r', 'YlGn', 'YlGnBu',\n",
        "'YlGnBu_r', 'YlGn_r', 'YlOrBr', 'YlOrBr_r', 'YlOrRd', 'YlOrRd_r', 'afmhot', 'afmhot_r', 'autumn',\n",
        " 'autumn_r', 'binary', 'binary_r', 'bone', 'bone_r', 'brg', 'brg_r', 'bwr', 'bwr_r', 'cividis', \n",
        " 'cividis_r', 'cool', 'cool_r', 'coolwarm', 'coolwarm_r', 'copper', 'copper_r', 'cubehelix', 'cubehelix_r', \n",
        " 'flag', 'flag_r', 'gist_earth', 'gist_earth_r', 'gist_gray', 'gist_gray_r', 'gist_heat', 'gist_heat_r', \n",
        " 'gist_ncar', 'gist_ncar_r', 'gist_rainbow', 'gist_rainbow_r', 'gist_stern', 'gist_stern_r', 'gist_yarg', \n",
        " 'gist_yarg_r', 'gnuplot', 'gnuplot2', 'gnuplot2_r', 'gnuplot_r', 'gray', 'gray_r', 'hot', 'hot_r', 'hsv', \n",
        " 'hsv_r', 'inferno', 'inferno_r', 'jet', 'jet_r', 'magma', 'magma_r', 'nipy_spectral', 'nipy_spectral_r', 'ocean'...\n",
        "'''"
      ],
      "execution_count": 31,
      "outputs": [
        {
          "output_type": "stream",
          "text": [
            "\n",
            " Original type: <PIL.Image.Image image mode=L size=1274x1699 at 0x7F5E09282470> \n",
            "\n",
            "\n",
            "After conversion to numerical representation: \n",
            "\n",
            " array([[218, 219, 219, ..., 180, 179, 179],\n",
            "       [223, 223, 223, ..., 180, 179, 179],\n",
            "       [226, 226, 226, ..., 180, 180, 180],\n",
            "       ...,\n",
            "       [131, 150, 156, ..., 134, 117,  96],\n",
            "       [129, 148, 153, ..., 129, 123, 106],\n",
            "       [132, 152, 154, ..., 104, 124, 113]], dtype=uint8)\n",
            "\n",
            " Input image converted to gray scale: \n",
            "\n"
          ],
          "name": "stdout"
        },
        {
          "output_type": "display_data",
          "data": {
            "image/png": "[encoded data removed]",
            "text/plain": [
              "<Figure size 432x288 with 1 Axes>"
            ]
          },
          "metadata": {
            "tags": []
          }
        },
        {
          "output_type": "execute_result",
          "data": {
            "text/plain": [
              "\"\\n'Accent', 'Accent_r', 'Blues', 'Blues_r', 'BrBG', 'BrBG_r', 'BuGn', 'BuGn_r', 'BuPu', 'BuPu_r', \\n'CMRmap', 'CMRmap_r', 'Dark2', 'Dark2_r', 'GnBu', 'GnBu_r', 'Greens', 'Greens_r', 'Greys', 'Greys_r', \\n'OrRd', 'OrRd_r', 'Oranges', 'Oranges_r', 'PRGn', 'PRGn_r', 'Paired', 'Paired_r', 'Pastel1',\\n 'Pastel1_r', 'Pastel2', 'Pastel2_r', 'PiYG', 'PiYG_r', 'PuBu', 'PuBuGn', 'PuBuGn_r', 'PuBu_r', \\n 'PuOr', 'PuOr_r', 'PuRd', 'PuRd_r', 'Purples', 'Purples_r', 'RdBu', 'RdBu_r', 'RdGy', 'RdGy_r',\\n'RdPu', 'RdPu_r', 'RdYlBu', 'RdYlBu_r', 'RdYlGn', 'RdYlGn_r', 'Reds', 'Reds_r', 'Set1', 'Set1_r',\\n'Set2', 'Set2_r', 'Set3', 'Set3_r', 'Spectral', 'Spectral_r', 'Wistia', 'Wistia_r', 'YlGn', 'YlGnBu',\\n'YlGnBu_r', 'YlGn_r', 'YlOrBr', 'YlOrBr_r', 'YlOrRd', 'YlOrRd_r', 'afmhot', 'afmhot_r', 'autumn',\\n 'autumn_r', 'binary', 'binary_r', 'bone', 'bone_r', 'brg', 'brg_r', 'bwr', 'bwr_r', 'cividis', \\n 'cividis_r', 'cool', 'cool_r', 'coolwarm', 'coolwarm_r', 'copper', 'copper_r', 'cubehelix', 'cubehelix_r', \\n 'flag', 'flag_r', 'gist_earth', 'gist_earth_r', 'gist_gray', 'gist_gray_r', 'gist_heat', 'gist_heat_r', \\n 'gist_ncar', 'gist_ncar_r', 'gist_rainbow', 'gist_rainbow_r', 'gist_stern', 'gist_stern_r', 'gist_yarg', \\n 'gist_yarg_r', 'gnuplot', 'gnuplot2', 'gnuplot2_r', 'gnuplot_r', 'gray', 'gray_r', 'hot', 'hot_r', 'hsv', \\n 'hsv_r', 'inferno', 'inferno_r', 'jet', 'jet_r', 'magma', 'magma_r', 'nipy_spectral', 'nipy_spectral_r', 'ocean'...\\n\""
            ]
          },
          "metadata": {
            "tags": []
          },
          "execution_count": 31
        }
      ]
    },
    {
      "cell_type": "markdown",
      "metadata": {
        "id": "1HAprWH5v0mf",
        "colab_type": "text"
      },
      "source": [
        "\n",
        "Now, we will experiment using an edge detector kernel."
      ]
    },
    {
      "cell_type": "code",
      "metadata": {
        "id": "RS0o7XcBuBbG",
        "colab_type": "code",
        "colab": {}
      },
      "source": [
        "kernel = np.array([[ 0, 1, 0],\n",
        "                   [ 1,-4, 1],\n",
        "                   [ 0, 1, 0],]) \n",
        "\n",
        "grad = signal.convolve2d(arr, kernel, mode='same', boundary='symm')"
      ],
      "execution_count": 0,
      "outputs": []
    },
    {
      "cell_type": "code",
      "metadata": {
        "id": "o73RpcnPwAcC",
        "colab_type": "code",
        "colab": {}
      },
      "source": [
        "\n",
        "print('GRADIENT MAGNITUDE - Feature map')\n",
        "\n",
        "fig, aux = plt.subplots(figsize=(10, 10))\n",
        "aux.imshow(np.absolute(grad), cmap='gray')\n"
      ],
      "execution_count": 0,
      "outputs": []
    },
    {
      "cell_type": "markdown",
      "metadata": {
        "id": "-o1OVnn2zAB5",
        "colab_type": "text"
      },
      "source": [
        "If we change the kernel and start to analyze the outputs we would be acting as a CNN. The difference is that a Neural Network do all this work automatically (the kernel adjustment using different weights). In addition, we can understand how biases affect the behaviour of feature maps\n",
        "\n",
        "<b>Please note that when you are dealing with most of the real applications of CNNs, you usually convert the pixels values to a range from 0 to 1. This process is called normalization.</b>"
      ]
    },
    {
      "cell_type": "code",
      "metadata": {
        "id": "MjPwSZlnwF82",
        "colab_type": "code",
        "colab": {
          "base_uri": "https://localhost:8080/",
          "height": 34
        },
        "outputId": "4b4d9769-f5e2-4977-9316-ee38c995318c"
      },
      "source": [
        "print(type(grad))\n",
        "\n",
        "grad_biases = np.absolute(grad) + 100\n",
        "\n",
        "grad_biases[grad_biases > 255] = 255\n",
        "grad_biases = grad_biases/255\n"
      ],
      "execution_count": 44,
      "outputs": [
        {
          "output_type": "stream",
          "text": [
            "<class 'numpy.ndarray'>\n"
          ],
          "name": "stdout"
        }
      ]
    },
    {
      "cell_type": "code",
      "metadata": {
        "id": "YEgJ5nUpza1V",
        "colab_type": "code",
        "colab": {}
      },
      "source": [
        "%matplotlib inline\n",
        "\n",
        "print('GRADIENT MAGNITUDE - Feature map')\n",
        "\n",
        "fig, aux = plt.subplots(figsize=(10, 10))\n",
        "aux.imshow(np.absolute(grad_biases), cmap='gray')"
      ],
      "execution_count": 0,
      "outputs": []
    },
    {
      "cell_type": "markdown",
      "metadata": {
        "id": "6HnJeXw_0vtW",
        "colab_type": "text"
      },
      "source": [
        "Let's see an example of a digit\n"
      ]
    },
    {
      "cell_type": "code",
      "metadata": {
        "id": "AXpFWchp0U07",
        "colab_type": "code",
        "colab": {}
      },
      "source": [
        "# download standard image\n",
        "!wget --quiet https://ibm.box.com/shared/static/vvm1b63uvuxq88vbw9znpwu5ol380mco.jpg --output-document num3.jpg    "
      ],
      "execution_count": 0,
      "outputs": []
    },
    {
      "cell_type": "code",
      "metadata": {
        "id": "ZINddT3X0y_e",
        "colab_type": "code",
        "colab": {
          "base_uri": "https://localhost:8080/",
          "height": 863
        },
        "outputId": "621776c3-3fd4-40ce-b40a-a9c8109b1468"
      },
      "source": [
        "#Importing\n",
        "import numpy as np\n",
        "from scipy import signal\n",
        "from scipy import misc\n",
        "import matplotlib.pyplot as plt\n",
        "from PIL import Image\n",
        "\n",
        "im = Image.open('num3.jpg')\n",
        "\n",
        "image_gr = im.convert(\"L\")    # convert(\"L\") translate color images into black and white\n",
        "                              # uses the ITU-R 601-2 Luma transform (there are several \n",
        "                              # ways to convert an image to grey scale)\n",
        "print(\"\\n Original type: %r \\n\\n\" % image_gr)\n",
        "\n",
        "# convert image to a matrix with values from 0 to 255 (uint8) \n",
        "arr = np.asarray(image_gr) \n",
        "print(\"After conversion to numerical representation: \\n\\n %r\" % arr) \n",
        "### Activating matplotlib for Ipython\n",
        "%matplotlib inline\n",
        "\n",
        "### Plot image\n",
        "fig, aux = plt.subplots(figsize=(10, 10))\n",
        "imgplot = plt.imshow(arr)\n",
        "imgplot.set_cmap('gray')  #you can experiment different colormaps (Greys,winter,autumn)\n",
        "print(\"\\n Input image converted to gray scale: \\n\")\n",
        "plt.show(imgplot)"
      ],
      "execution_count": 46,
      "outputs": [
        {
          "output_type": "stream",
          "text": [
            "\n",
            " Original type: <PIL.Image.Image image mode=L size=181x181 at 0x7F5E47640208> \n",
            "\n",
            "\n",
            "After conversion to numerical representation: \n",
            "\n",
            " array([[26, 14, 12, ..., 11, 11, 11],\n",
            "       [ 0,  0,  1, ...,  0,  0,  0],\n",
            "       [12,  1,  0, ...,  0,  0,  0],\n",
            "       ...,\n",
            "       [12,  0,  0, ...,  0,  0,  0],\n",
            "       [12,  0,  0, ...,  0,  0,  0],\n",
            "       [12,  0,  0, ...,  0,  0,  0]], dtype=uint8)\n",
            "\n",
            " Input image converted to gray scale: \n",
            "\n"
          ],
          "name": "stdout"
        },
        {
          "output_type": "display_data",
          "data": {
            "image/png": "[encoded data removed]",
            "text/plain": [
              "<Figure size 720x720 with 1 Axes>"
            ]
          },
          "metadata": {
            "tags": []
          }
        }
      ]
    },
    {
      "cell_type": "markdown",
      "metadata": {
        "id": "GcwyZntV1C3B",
        "colab_type": "text"
      },
      "source": [
        "Using the edge detector\n"
      ]
    },
    {
      "cell_type": "code",
      "metadata": {
        "id": "zEj-uq7109GA",
        "colab_type": "code",
        "colab": {
          "base_uri": "https://localhost:8080/",
          "height": 628
        },
        "outputId": "a38fbe61-46e6-4179-d6a9-59993c364a51"
      },
      "source": [
        "kernel = np.array([\n",
        "                        [ 0, 1, 0],\n",
        "                        [ 1,-4, 1],\n",
        "                        [ 0, 1, 0],\n",
        "                                     ]) \n",
        "\n",
        "grad = signal.convolve2d(arr, kernel, mode='same', boundary='symm')\n",
        "%matplotlib inline\n",
        "\n",
        "print('GRADIENT MAGNITUDE - Feature map')\n",
        "\n",
        "fig, aux = plt.subplots(figsize=(10, 10))\n",
        "aux.imshow(np.absolute(grad), cmap='gray')\n"
      ],
      "execution_count": 47,
      "outputs": [
        {
          "output_type": "stream",
          "text": [
            "GRADIENT MAGNITUDE - Feature map\n"
          ],
          "name": "stdout"
        },
        {
          "output_type": "execute_result",
          "data": {
            "text/plain": [
              "<matplotlib.image.AxesImage at 0x7f5e091eccc0>"
            ]
          },
          "metadata": {
            "tags": []
          },
          "execution_count": 47
        },
        {
          "output_type": "display_data",
          "data": {
            "image/png": "[encoded data removed]",
            "text/plain": [
              "<Figure size 720x720 with 1 Axes>"
            ]
          },
          "metadata": {
            "tags": []
          }
        }
      ]
    },
    {
      "cell_type": "code",
      "metadata": {
        "id": "BtmyZOgJ1FKE",
        "colab_type": "code",
        "colab": {}
      },
      "source": [
        "kernel = np.array([\n",
        "                        [ 0, -1, 0],\n",
        "                        [ -1, 0, -1],\n",
        "                        [ 0, -1, 0],\n",
        "                                     ]) \n",
        "\n",
        "grad1 = signal.convolve2d(arr, kernel, mode='same', boundary='symm')\n",
        "%matplotlib inline\n",
        "\n",
        "print('GRADIENT MAGNITUDE - Feature map')\n",
        "\n",
        "fig, aux = plt.subplots(figsize=(10, 10))\n",
        "aux.imshow(np.absolute(grad), cmap='gray')\n"
      ],
      "execution_count": 0,
      "outputs": []
    },
    {
      "cell_type": "markdown",
      "metadata": {
        "id": "MlCL6IaF17ZB",
        "colab_type": "text"
      },
      "source": [
        "Created by <a href=\"https://linkedin.com/in/saeedaghabozorgi\"> Saeed Aghabozorgi </a> , <a href=\"https://ca.linkedin.com/in/rafaelblsilva\"> Rafael Belo Da Silva</a><br />\n"
      ]
    }
  ]
}